{
 "cells": [
  {
   "cell_type": "code",
   "execution_count": null,
   "id": "df13b096-f876-44d9-b80b-10d303e02793",
   "metadata": {},
   "outputs": [],
   "source": [
    "import numpy as np\n",
    "import scipy.stats.distributions as ds\n",
    "import matplotlib.pyplot as plt\n",
    "\n",
    "from mud.base import DensityProblem\n",
    "\n",
    "import mud_examples.poisson as ps"
   ]
  },
  {
   "cell_type": "code",
   "execution_count": null,
   "id": "f1f73fca-73b5-429d-87ae-273204dc22df",
   "metadata": {},
   "outputs": [],
   "source": [
    "sample_dist = \"u\"\n",
    "input_dim = 2\n",
    "prefix = 1000\n",
    "fdir = f\"pde_{input_dim}D\"\n",
    "fname = f\"data/{fdir}/ref_{prefix}_{input_dim}{sample_dist}.pkl\"\n",
    "\n",
    "P = ps.pdeProblem(fname)\n",
    "P.load()\n",
    "if sample_dist == \"n\":\n",
    "    P.dist = ds.norm  # required for generator functions\n",
    "    loc = -2.0\n",
    "    scale = 0.2\n",
    "else:\n",
    "    P.dist = ds.uniform\n",
    "    loc = -4.0\n",
    "    scale = 4.0"
   ]
  },
  {
   "cell_type": "code",
   "execution_count": null,
   "id": "c25cda4f-3a26-4c8b-a9d6-4d4b7ae48923",
   "metadata": {},
   "outputs": [],
   "source": [
    "print(fname)"
   ]
  },
  {
   "cell_type": "code",
   "execution_count": null,
   "id": "041017c4-ac99-4a65-8c4d-0bfc5746c4d2",
   "metadata": {},
   "outputs": [],
   "source": [
    "num_samples, num_max_qoi = P.qoi.shape\n",
    "print(f\"There are {num_max_qoi} sensors available and {num_samples} samples of {input_dim}-D parameter space.\")"
   ]
  },
  {
   "cell_type": "code",
   "execution_count": null,
   "id": "36fdea18-087b-46a3-af14-db51a4a0921a",
   "metadata": {},
   "outputs": [],
   "source": [
    "# modify this method for new plot based on singular vectors\n",
    "num_qoi = 2\n",
    "ps.plot_without_fenics(\n",
    "    fname,\n",
    "    num_sensors=100,\n",
    "    mode=\"hor\",\n",
    "    num_qoi=num_qoi,\n",
    "    example=\"mud\",  # TODO: rename this variable\n",
    ")"
   ]
  },
  {
   "cell_type": "markdown",
   "id": "1af0b9c2-1586-4ca5-91ce-e02a178279e9",
   "metadata": {},
   "source": [
    "# Baseline Solution"
   ]
  },
  {
   "cell_type": "code",
   "execution_count": null,
   "id": "7d4c5999-c869-48f2-b21a-3cd09c5e6217",
   "metadata": {},
   "outputs": [],
   "source": [
    "# generator function which takes (num_obs, sd) as arguments and returns a mud_problem\n",
    "mud_generator = P.mud_vector_horizontal(num_qoi, loc=loc, scale=scale)"
   ]
  },
  {
   "cell_type": "code",
   "execution_count": null,
   "id": "2e1fa06a-9ef0-4e24-8172-85e0d6f3e003",
   "metadata": {},
   "outputs": [],
   "source": [
    "mud_problem = mud_generator(500, 0.01) # simulates noisy measurements"
   ]
  },
  {
   "cell_type": "code",
   "execution_count": null,
   "id": "b2df0883-0c3a-4514-940b-c533ee40acf4",
   "metadata": {},
   "outputs": [],
   "source": [
    "mud_problem"
   ]
  },
  {
   "cell_type": "code",
   "execution_count": null,
   "id": "8d5c8654-c7bc-4fb5-849d-700f75cb82ed",
   "metadata": {},
   "outputs": [],
   "source": [
    "mud_problem.mud_point()"
   ]
  },
  {
   "cell_type": "markdown",
   "id": "5fc70123-6aec-4bba-9326-5eed435abc74",
   "metadata": {},
   "source": [
    "# Reference Solution"
   ]
  },
  {
   "cell_type": "code",
   "execution_count": null,
   "id": "579f2d79-4f16-4d89-ace8-da0e02e3cc8a",
   "metadata": {},
   "outputs": [],
   "source": [
    "# TODO : turn this snippet into a method\n",
    "closest_fit_index_out = np.argmin(\n",
    "    np.linalg.norm(P.qoi - np.array(P.qoi_ref), axis=1)\n",
    ")\n",
    "g_projected = P.lam[closest_fit_index_out, :].ravel()\n",
    "lam_true = g_projected\n",
    "print(lam_true)"
   ]
  },
  {
   "cell_type": "markdown",
   "id": "aeafe0e4-a777-4aee-a028-9305e4ece09c",
   "metadata": {},
   "source": [
    "# SVD Approach"
   ]
  },
  {
   "cell_type": "code",
   "execution_count": null,
   "id": "4766f95c-27b5-4fd4-8d40-0e30bff59471",
   "metadata": {},
   "outputs": [],
   "source": [
    "num_obs = 500\n",
    "sd = 0.05\n",
    "measure_true = P.qoi_ref[0:num_obs]\n",
    "measurements = P.qoi[:, 0:num_obs]\n",
    "noise = np.random.randn(num_obs) * sd\n",
    "data = measure_true + noise\n",
    "# q = wme(qoi, data, sd).reshape(-1, 1)"
   ]
  },
  {
   "cell_type": "code",
   "execution_count": null,
   "id": "a5147528-1873-471f-a26b-f83ac9118d6e",
   "metadata": {},
   "outputs": [],
   "source": [
    "from sklearn.preprocessing import StandardScaler"
   ]
  },
  {
   "cell_type": "code",
   "execution_count": null,
   "id": "ee69d7b4-20c1-419c-80f6-2e703d7d33b2",
   "metadata": {},
   "outputs": [],
   "source": [
    "scalar = StandardScaler()"
   ]
  },
  {
   "cell_type": "code",
   "execution_count": null,
   "id": "ac4493b9-5430-4725-b05d-78f7552c6df6",
   "metadata": {},
   "outputs": [],
   "source": [
    "residuals = (measurements - data) / sd\n",
    "X = scalar.fit_transform(residuals)"
   ]
  },
  {
   "cell_type": "code",
   "execution_count": null,
   "id": "98223fa6-e8fe-4e5e-b603-b7dc8e357da1",
   "metadata": {},
   "outputs": [],
   "source": [
    "U, singular_values, singular_vectors = np.linalg.svd(X)"
   ]
  },
  {
   "cell_type": "code",
   "execution_count": null,
   "id": "bb4a51d9-6d87-4dee-bd2b-1e79b64fae8a",
   "metadata": {},
   "outputs": [],
   "source": [
    "top_singular_values = 5\n",
    "inds = np.arange(1, top_singular_values+1)\n",
    "plt.plot(inds, singular_values[0:top_singular_values])\n",
    "plt.xticks(inds)\n",
    "plt.xlabel(\"Index\", fontsize=12)\n",
    "plt.ylabel(\"$\\sigma_i$\", fontsize=12)\n",
    "plt.yscale('log')\n",
    "plt.title(f\"Top {top_singular_values} Singular Values of Scaled Residuals\", fontsize=16)\n",
    "plt.show()"
   ]
  },
  {
   "cell_type": "code",
   "execution_count": null,
   "id": "0a40a994-8a8e-4e3d-a457-2ecbb7cb574a",
   "metadata": {},
   "outputs": [],
   "source": [
    "scalar = StandardScaler()\n",
    "S = scalar.fit_transform(singular_vectors)"
   ]
  },
  {
   "cell_type": "code",
   "execution_count": null,
   "id": "22bd45ca-0516-4491-b3bf-f3fae16f5707",
   "metadata": {},
   "outputs": [],
   "source": [
    "top_singular_vectors = 2\n",
    "fig, ax = plt.subplots(1, top_singular_vectors, figsize=(1+5*top_singular_vectors, 5), sharey=True)\n",
    "for i in range(top_singular_vectors):\n",
    "    ax[i].tricontour(P.sensors[0:num_obs, 0], P.sensors[0:num_obs, 1], singular_vectors[i, :], levels=20, alpha=1)\n",
    "    ax[i].scatter(P.sensors[0:num_obs, 0], P.sensors[0:num_obs, 1], s=100, c=singular_vectors[i, :])\n",
    "    ax[i].set_title(f\"$\\sigma_{i+1}$ = {singular_values[i]:1.2e}\")\n",
    "    ax[i].set_xlabel(\"$x_1$\", fontsize=12)\n",
    "    if i == 0: ax[i].set_ylabel(\"$x_2$\", fontsize=12)\n",
    "fig.suptitle(\"Singular Vector Components as Weights for Sensors\", fontsize=16)\n",
    "fig.show()"
   ]
  },
  {
   "cell_type": "code",
   "execution_count": null,
   "id": "3751ce39-6ed2-4764-ac4d-636e1ed83448",
   "metadata": {},
   "outputs": [],
   "source": [
    "fig, ax = plt.subplots(1, 1, figsize=(5,4))\n",
    "# plt.plot((singular_vectors[0, :] + singular_vectors[1, :]))\n",
    "ax.plot(singular_vectors[0, :], c='xkcd:orange', label=\"$v_1$\", lw=3)\n",
    "ax.plot(singular_vectors[1, :], c='xkcd:light blue', label=\"$v_2$\", lw=3, zorder=0)\n",
    "ax.legend(fontsize=12)\n",
    "ax.set_xlabel(\"Sensor Index\", fontsize=12)\n",
    "ax.set_ylabel(\"Singular Vector Component Value\", fontsize=12)\n",
    "fig.show()"
   ]
  },
  {
   "cell_type": "code",
   "execution_count": null,
   "id": "82a4597d-2202-4952-871d-1f1a73386929",
   "metadata": {},
   "outputs": [],
   "source": [
    "# fig, ax = plt.subplots(figsize=(3,3))\n",
    "# ax.scatter(P.sensors[0:num_obs, 0], P.sensors[0:num_obs, 1], s=100, c= (singular_vectors[0, :] + singular_vectors[1, :]))\n",
    "# fig.show()"
   ]
  },
  {
   "cell_type": "code",
   "execution_count": null,
   "id": "6e2d77d7-6512-48e6-b428-b766d16c7820",
   "metadata": {},
   "outputs": [],
   "source": [
    "num_qoi = 2\n",
    "new_qoi_map = singular_vectors[0:num_qoi, :]\n",
    "new_qoi = residuals @ new_qoi_map.T  # ok shape, wrong solution, identical to using U@sigma"
   ]
  },
  {
   "cell_type": "code",
   "execution_count": null,
   "id": "e85a3cfe-574c-4a9f-8998-7ac86910aeac",
   "metadata": {},
   "outputs": [],
   "source": [
    "ax.contour"
   ]
  },
  {
   "cell_type": "code",
   "execution_count": null,
   "id": "0f0a725c-1a39-4c53-ac98-3385b0bb17e8",
   "metadata": {},
   "outputs": [],
   "source": [
    "top_singular_vectors = 2\n",
    "fig, ax = plt.subplots(1, top_singular_vectors, figsize=(1+5*top_singular_vectors, 5), sharey=True)\n",
    "for i in range(top_singular_vectors):\n",
    "    ax[i].scatter(P.lam[:,0], P.lam[:,1], s=50, c=new_qoi[:,i])\n",
    "    ax[i].tricontour(P.lam[:,0], P.lam[:,1], new_qoi[:,i], levels=20)\n",
    "#     ax[i].set_title(f\"$\\sigma_{i}$ = {singular_values[i]:1.2e}\")\n",
    "    ax[i].set_title(f\"$q_{i+1}$\", fontsize=12)\n",
    "    ax[i].set_xlabel(\"$\\lambda_1$\", fontsize=12)\n",
    "    if i == 0: ax[i].set_ylabel(\"$\\lambda_2$\", fontsize=12)\n",
    "# fig.supylabel(\"$\\lambda_2$\")\n",
    "fig.suptitle(\"QoI Component Surface Plot\", fontsize=16)\n",
    "fig.show()"
   ]
  },
  {
   "cell_type": "code",
   "execution_count": null,
   "id": "66a5be8d-fc6f-47c9-a650-1703d2a49cf2",
   "metadata": {},
   "outputs": [],
   "source": [
    "d = DensityProblem(P.lam, new_qoi, P.domain, weights=None)\n",
    "print(d.mud_point())"
   ]
  },
  {
   "cell_type": "code",
   "execution_count": null,
   "id": "60d1e3af-071e-4820-bff3-38a3b8421db9",
   "metadata": {},
   "outputs": [],
   "source": [
    "P.plot()\n",
    "plt.plot(np.linspace(0, 1, input_dim + 2), [0] + list(d.mud_point()) + [0], lw=5, c='blue', label='svd')\n",
    "plt.plot(np.linspace(0, 1, input_dim + 2), [0] + list(mud_problem.mud_point()) + [0], lw=5, c='purple', label='split')\n",
    "plt.legend()\n",
    "plt.show()"
   ]
  }
 ],
 "metadata": {
  "kernelspec": {
   "display_name": "Python (myenv)",
   "language": "python",
   "name": "myenv"
  },
  "language_info": {
   "codemirror_mode": {
    "name": "ipython",
    "version": 3
   },
   "file_extension": ".py",
   "mimetype": "text/x-python",
   "name": "python",
   "nbconvert_exporter": "python",
   "pygments_lexer": "ipython3",
   "version": "3.9.7"
  }
 },
 "nbformat": 4,
 "nbformat_minor": 5
}
